{
 "cells": [
  {
   "cell_type": "code",
   "execution_count": 1,
   "id": "e8ee0229",
   "metadata": {},
   "outputs": [
    {
     "name": "stdout",
     "output_type": "stream",
     "text": [
      "✅ 10 sample invoices generated in /invoices folder\n"
     ]
    }
   ],
   "source": [
    "from PIL import Image, ImageDraw, ImageFont\n",
    "import random\n",
    "import os\n",
    "\n",
    "# Make output folder\n",
    "os.makedirs(\"invoices\", exist_ok=True)\n",
    "\n",
    "vendors = [\"Tech Solutions Ltd.\", \"Global Supplies Inc.\", \"Alpha Traders\", \"Euron Tech\", \"Bright Future Co.\"]\n",
    "currencies = [\"USD\", \"EUR\", \"INR\", \"GBP\"]\n",
    "\n",
    "for i in range(6, 10):\n",
    "    # Create blank white image\n",
    "    img = Image.new(\"RGB\", (800, 600), \"white\")\n",
    "    draw = ImageDraw.Draw(img)\n",
    "\n",
    "    # (Optional) Use a truetype font if available\n",
    "    try:\n",
    "        font = ImageFont.truetype(\"arial.ttf\", 20)\n",
    "    except:\n",
    "        font = ImageFont.load_default()\n",
    "\n",
    "    # Fake data\n",
    "    vendor = random.choice(vendors)\n",
    "    invoice_num = f\"INV-{1000+i}\"\n",
    "    date = f\"2025-09-{random.randint(1,28):02d}\"\n",
    "    due_date = f\"2025-10-{random.randint(1,28):02d}\"\n",
    "    subtotal = round(random.uniform(100, 1000), 2)\n",
    "    tax = round(subtotal * 0.18, 2)\n",
    "    total = subtotal + tax\n",
    "    currency = random.choice(currencies)\n",
    "    po_number = f\"PO-{2000+i}\"\n",
    "\n",
    "    # Draw text\n",
    "    text = f\"\"\"\n",
    "    Vendor: {vendor}\n",
    "    Invoice Number: {invoice_num}\n",
    "    Invoice Date: {date}\n",
    "    Billing Address: 123 Example Street, City\n",
    "    Billing Email: billing@example.com\n",
    "\n",
    "    Subtotal: {subtotal} {currency}\n",
    "    Tax: {tax} {currency}\n",
    "    Total: {total} {currency}\n",
    "    Due Date: {due_date}\n",
    "    PO Number: {po_number}\n",
    "\n",
    "    Notes: Payment due within 30 days.\n",
    "    \"\"\"\n",
    "    draw.multiline_text((50, 50), text, font=font, fill=\"black\")\n",
    "\n",
    "    # Save image\n",
    "    img.save(f\"invoices/invoice_{i}.png\")\n",
    "\n",
    "print(\"✅ 10 sample invoices generated in /invoices folder\")\n"
   ]
  },
  {
   "cell_type": "code",
   "execution_count": null,
   "id": "50620dbb",
   "metadata": {},
   "outputs": [],
   "source": []
  }
 ],
 "metadata": {
  "kernelspec": {
   "display_name": "invoice-env",
   "language": "python",
   "name": "python3"
  },
  "language_info": {
   "codemirror_mode": {
    "name": "ipython",
    "version": 3
   },
   "file_extension": ".py",
   "mimetype": "text/x-python",
   "name": "python",
   "nbconvert_exporter": "python",
   "pygments_lexer": "ipython3",
   "version": "3.12.3"
  }
 },
 "nbformat": 4,
 "nbformat_minor": 5
}
