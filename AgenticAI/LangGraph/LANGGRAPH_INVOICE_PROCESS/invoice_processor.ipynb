{
 "cells": [
  {
   "cell_type": "code",
   "execution_count": null,
   "id": "65f5edaa",
   "metadata": {},
   "outputs": [],
   "source": [
    "euri-5bd420cb6bb042c8fc06270384d4fa001146787ce861d82b9cbf0d607a9cf3d1"
   ]
  },
  {
   "cell_type": "code",
   "execution_count": 1,
   "id": "2e9aa348",
   "metadata": {},
   "outputs": [],
   "source": [
    "import os, json, time, sqlite3, warnings\n",
    "from typing import Dict, Any, List\n",
    "import re\n",
    "import easyocr\n",
    "from euriai.langgraph import EuriaiLangGraph"
   ]
  },
  {
   "cell_type": "code",
   "execution_count": null,
   "id": "0be52f09",
   "metadata": {},
   "outputs": [],
   "source": [
    "EURI_API_KEY  = \"euri-1f3025f0ddab44e290bf86bed48790c9f4fd1325a59b42e49701607ebb5b9546\"\n",
    "MODEL         = \"gpt-4.1-nano\""
   ]
  },
  {
   "cell_type": "code",
   "execution_count": 3,
   "id": "b90a7038",
   "metadata": {},
   "outputs": [],
   "source": [
    "INPUT_DIR     = \"invoices\"\n",
    "DB_PATH       = \"invoice.sqlite\" \n",
    "PROCESSED_LOG = \"processed.json\"\n",
    "POLL_SEC      = 5"
   ]
  },
  {
   "cell_type": "code",
   "execution_count": 4,
   "id": "b13e0ced",
   "metadata": {},
   "outputs": [],
   "source": [
    "os.makedirs(INPUT_DIR, exist_ok=True)"
   ]
  },
  {
   "cell_type": "code",
   "execution_count": 5,
   "id": "4b2b2b7d",
   "metadata": {},
   "outputs": [],
   "source": [
    "def load_seen() -> set:\n",
    "    if not os.path.exists(PROCESSED_LOG):\n",
    "        return set()\n",
    "    try:\n",
    "        with open(PROCESSED_LOG, \"r\", encoding=\"utf-8\") as f:\n",
    "            return set(json.load(f))\n",
    "    except Exception:\n",
    "        return set()\n"
   ]
  },
  {
   "cell_type": "code",
   "execution_count": 6,
   "id": "5352b082",
   "metadata": {},
   "outputs": [],
   "source": [
    "def save_seen(seen: set) -> None:\n",
    "    with open(PROCESSED_LOG, \"w\", encoding=\"utf-8\") as f:\n",
    "        json.dump(sorted(list(seen)), f, ensure_ascii=False, indent=2)\n",
    "        \n",
    "seen = load_seen() "
   ]
  },
  {
   "cell_type": "code",
   "execution_count": 7,
   "id": "c9fcd9b9",
   "metadata": {},
   "outputs": [],
   "source": [
    "def ensure_schema():\n",
    "    con = sqlite3.connect(DB_PATH)\n",
    "    cur = con.cursor()\n",
    "    # Create if missing\n",
    "    cur.execute(\n",
    "        \"\"\"\n",
    "        CREATE TABLE IF NOT EXISTS invoices (\n",
    "          id INTEGER PRIMARY KEY AUTOINCREMENT,\n",
    "          file_name TEXT,\n",
    "          vendor TEXT,\n",
    "          number TEXT,\n",
    "          date TEXT,\n",
    "          total REAL,\n",
    "          currency TEXT,\n",
    "          raw_json TEXT\n",
    "        )\n",
    "        \"\"\"\n",
    "    )\n",
    "    # Add columns if table existed with an older schema\n",
    "    cur.execute(\"PRAGMA table_info(invoices);\")\n",
    "    cols = {row[1] for row in cur.fetchall()}\n",
    "    if \"file_name\" not in cols:\n",
    "        cur.execute(\"ALTER TABLE invoices ADD COLUMN file_name TEXT;\")\n",
    "    if \"raw_json\" not in cols:\n",
    "        cur.execute(\"ALTER TABLE invoices ADD COLUMN raw_json TEXT;\")\n",
    "    con.commit()\n",
    "    con.close()\n",
    "\n",
    "ensure_schema()\n"
   ]
  },
  {
   "cell_type": "code",
   "execution_count": 8,
   "id": "131e7765",
   "metadata": {},
   "outputs": [
    {
     "name": "stderr",
     "output_type": "stream",
     "text": [
      "Using CPU. Note: This module is much faster with a GPU.\n"
     ]
    }
   ],
   "source": [
    "ocr = easyocr.Reader([\"en\"], gpu=False)"
   ]
  },
  {
   "cell_type": "code",
   "execution_count": 10,
   "id": "c19a0dc5",
   "metadata": {},
   "outputs": [
    {
     "name": "stdout",
     "output_type": "stream",
     "text": [
      "Added AI node: CLEAN (model: gpt-4.1-nano)\n",
      "Set entry point: CLEAN\n",
      "Set finish point: CLEAN\n"
     ]
    }
   ],
   "source": [
    "clean_graph = EuriaiLangGraph(api_key=EURI_API_KEY, default_model=MODEL)\n",
    "clean_graph.add_ai_node(\n",
    "    \"CLEAN\",\n",
    "    \"\"\"You clean noisy OCR to plain text.\n",
    "- Keep facts.\n",
    "- No guessing.\n",
    "- Keep table rows readable.\n",
    "\n",
    "OCR:\n",
    "{ocr_text}\"\"\"\n",
    ")\n",
    "clean_graph.set_entry_point(\"CLEAN\")\n",
    "clean_graph.set_finish_point(\"CLEAN\")\n"
   ]
  },
  {
   "cell_type": "code",
   "execution_count": 12,
   "id": "dab98a89",
   "metadata": {},
   "outputs": [
    {
     "name": "stdout",
     "output_type": "stream",
     "text": [
      "Added AI node: EXTRACT (model: gpt-4.1-nano)\n",
      "Set entry point: EXTRACT\n",
      "Set finish point: EXTRACT\n"
     ]
    }
   ],
   "source": [
    "extract_graph = EuriaiLangGraph(api_key=EURI_API_KEY, default_model=MODEL)\n",
    "extract_graph.add_ai_node(\n",
    "    \"EXTRACT\",\n",
    "    \"\"\"From CLEAN_TEXT, return STRICT JSON with keys exactly:\n",
    "vendor, number, date, total, currency,\n",
    "line_items (list of {{description, quantity, unit_price, amount}}).\n",
    "\n",
    "Unknown → null. Numbers numeric. Dates YYYY-MM-DD if possible.\n",
    "JSON ONLY, no extra text.\n",
    "\n",
    "CLEAN_TEXT:\n",
    "{clean_text}\"\"\"\n",
    ")\n",
    "extract_graph.set_entry_point(\"EXTRACT\")\n",
    "extract_graph.set_finish_point(\"EXTRACT\")"
   ]
  },
  {
   "cell_type": "code",
   "execution_count": 13,
   "id": "73fefff8",
   "metadata": {},
   "outputs": [],
   "source": [
    "def pick_text(x, *, prefer_key=None):\n",
    "    \"\"\"Return a plain string from various possible structures.\n",
    "    If x is a dict, try prefer_key or common keys; else stringify.\n",
    "    \"\"\"\n",
    "    if isinstance(x, str):\n",
    "        return x\n",
    "    if isinstance(x, dict):\n",
    "        if prefer_key and prefer_key in x and isinstance(x[prefer_key], str):\n",
    "            return x[prefer_key]\n",
    "        for k in (\"output\", \"text\", \"CLEAN_output\", \"EXTRACT_output\"):\n",
    "            if k in x and isinstance(x[k], str):\n",
    "                return x[k]\n",
    "        return json.dumps(x, ensure_ascii=False)\n",
    "    return str(x)\n"
   ]
  },
  {
   "cell_type": "code",
   "execution_count": 14,
   "id": "0b039df2",
   "metadata": {},
   "outputs": [],
   "source": [
    "def parse_json_safe(raw):\n",
    "    \"\"\"Parse JSON robustly. Accepts dict or str; falls back to substring.\"\"\"\n",
    "    if isinstance(raw, dict):\n",
    "        return raw\n",
    "    if not isinstance(raw, str):\n",
    "        return {\"__raw__\": raw}\n",
    "    try:\n",
    "        return json.loads(raw)\n",
    "    except Exception:\n",
    "        pass\n",
    "    try:\n",
    "        s, e = raw.find(\"{\"), raw.rfind(\"}\")\n",
    "        if s != -1 and e != -1 and e > s:\n",
    "            return json.loads(raw[s:e+1])\n",
    "    except Exception:\n",
    "        pass\n",
    "    return {\"__raw__\": raw}"
   ]
  },
  {
   "cell_type": "code",
   "execution_count": 15,
   "id": "10d85489",
   "metadata": {},
   "outputs": [],
   "source": [
    "def _heuristic_extract(clean_text: str) -> dict:\n",
    "    \"\"\"Very simple regex-based extractor to keep DB flowing when AI is down.\"\"\"\n",
    "    def find(pat, s):\n",
    "        m = re.search(pat, s, re.IGNORECASE)\n",
    "        return m.group(1).strip() if m else None\n",
    "\n",
    "    vendor = find(r\"Vendor:\\s*(.+)\", clean_text)\n",
    "    number = find(r\"(?:Invoice Number|Invoice No\\.?):\\s*([A-Za-z0-9\\-]+)\", clean_text)\n",
    "    date   = find(r\"(?:Invoice Date|Date):\\s*([0-9]{4}-[0-9]{2}-[0-9]{2})\", clean_text)\n",
    "    total  = find(r\"Total:\\s*([0-9]+(?:\\.[0-9]+)?)\", clean_text)\n",
    "    curr   = find(r\"Total:\\s*[0-9]+(?:\\.[0-9]+)?\\s*([A-Za-z]{3})\", clean_text) or find(r\"Currency:\\s*([A-Za-z]{3})\", clean_text)\n",
    "\n",
    "    try: total = float(total) if total is not None else None\n",
    "    except: total = None\n",
    "\n",
    "    return {\n",
    "        \"vendor\": vendor,\n",
    "        \"number\": number,\n",
    "        \"date\":   date,\n",
    "        \"total\":  total,\n",
    "        \"currency\": curr,\n",
    "        \"line_items\": []\n",
    "    }\n"
   ]
  },
  {
   "cell_type": "code",
   "execution_count": 16,
   "id": "12393a1d",
   "metadata": {},
   "outputs": [],
   "source": [
    "def NODE_OCR(file_path: str) -> Dict[str, Any]:\n",
    "    \"\"\"Read an image file and return OCR text.\"\"\"\n",
    "    text = \"\\n\".join(ocr.readtext(file_path, detail=0))\n",
    "    return {\"ocr_text\": text}"
   ]
  },
  {
   "cell_type": "code",
   "execution_count": 17,
   "id": "7313751a",
   "metadata": {},
   "outputs": [],
   "source": [
    "def NODE_CLEAN(ocr_text: str) -> Dict[str, Any]:\n",
    "    \"\"\"Normalize noisy OCR text using the CLEAN AI node; fallback to pass-through on error.\"\"\"\n",
    "    try:\n",
    "        clean_raw = clean_graph.run({\"ocr_text\": ocr_text})\n",
    "        clean_text = pick_text(clean_raw, prefer_key=\"CLEAN_output\")\n",
    "        if not isinstance(clean_text, str) or not clean_text.strip():\n",
    "            raise RuntimeError(\"Empty CLEAN output\")\n",
    "        return {\"clean_text\": clean_text, \"CLEAN_raw\": clean_raw}\n",
    "    except Exception as e:\n",
    "        print(f\"[CLEAN:FALLBACK] {e}\")\n",
    "        return {\"clean_text\": ocr_text, \"CLEAN_raw\": {\"fallback\": True}}"
   ]
  },
  {
   "cell_type": "code",
   "execution_count": 18,
   "id": "078ec805",
   "metadata": {},
   "outputs": [],
   "source": [
    "def NODE_EXTRACT(clean_text_any) -> dict:\n",
    "    \"\"\"Extract structured JSON using the EXTRACT AI node; fallback to heuristic on error.\"\"\"\n",
    "    clean_text = pick_text(clean_text_any, prefer_key=\"CLEAN_output\")\n",
    "    try:\n",
    "        result = extract_graph.run({\"clean_text\": clean_text})\n",
    "        raw_json = pick_text(result, prefer_key=\"EXTRACT_output\")\n",
    "        return {\"raw_json\": raw_json, \"EXTRACT_raw\": result}\n",
    "    except Exception as e:\n",
    "        print(f\"[EXTRACT:FALLBACK] {e}\")\n",
    "        heuristic = _heuristic_extract(clean_text)\n",
    "        return {\"raw_json\": json.dumps(heuristic, ensure_ascii=False), \"EXTRACT_raw\": {\"fallback\": True}}\n"
   ]
  },
  {
   "cell_type": "code",
   "execution_count": 19,
   "id": "b75ddae7",
   "metadata": {},
   "outputs": [],
   "source": [
    "def NODE_VALIDATE(data: Dict[str, Any]) -> Dict[str, Any]:\n",
    "    \"\"\"Minimal schema checks and numeric sanity for demo purposes.\"\"\"\n",
    "    issues: List[str] = []\n",
    "    for k in [\"vendor\", \"number\", \"date\", \"currency\"]:\n",
    "        if k not in data or data.get(k) in (None, \"\"):\n",
    "            issues.append(f\"missing key: {k}\")\n",
    "    try:\n",
    "        if data.get(\"total\") is None:\n",
    "            issues.append(\"total is null\")\n",
    "        else:\n",
    "            float(data.get(\"total\"))\n",
    "    except Exception:\n",
    "        issues.append(f\"total not numeric: {data.get('total')}\")\n",
    "    if not isinstance(data.get(\"line_items\", []), list):\n",
    "        issues.append(\"line_items not a list\")\n",
    "    return {\"valid\": len(issues) == 0, \"issues\": issues}\n"
   ]
  },
  {
   "cell_type": "code",
   "execution_count": 20,
   "id": "f9405a33",
   "metadata": {},
   "outputs": [],
   "source": [
    "def NODE_PERSIST(file_name: str, data: dict, raw_json_any):\n",
    "    raw_json_str = json.dumps(raw_json_any, ensure_ascii=False) if not isinstance(raw_json_any, str) else raw_json_any\n",
    "    con = sqlite3.connect(DB_PATH)\n",
    "    cur = con.cursor()\n",
    "    cur.execute(\n",
    "        \"\"\"\n",
    "        INSERT INTO invoices(file_name, vendor, number, date, total, currency, raw_json)\n",
    "        VALUES (?, ?, ?, ?, ?, ?, ?)\n",
    "        \"\"\",\n",
    "        (\n",
    "            file_name,\n",
    "            data.get(\"vendor\"),\n",
    "            data.get(\"number\"),\n",
    "            data.get(\"date\"),\n",
    "            data.get(\"total\"),\n",
    "            data.get(\"currency\"),\n",
    "            raw_json_str,\n",
    "        ),\n",
    "    )\n",
    "    rowid = cur.lastrowid\n",
    "    con.commit()\n",
    "    con.close()\n",
    "    print(f\"[DB] Inserted row id={rowid} at {os.path.abspath(DB_PATH)}\")\n",
    "    return {\"db\": \"sqlite\", \"rowid\": rowid}"
   ]
  },
  {
   "cell_type": "code",
   "execution_count": 21,
   "id": "b69b8f53",
   "metadata": {},
   "outputs": [],
   "source": [
    "def NODE_NOTIFY(file_name: str, data: Dict[str, Any], valid: bool, issues: List[str]) -> None:\n",
    "    status = \"OK\" if valid else f\"WARN: {issues}\"\n",
    "    print(\n",
    "        f\"[{status}] file='{file_name}' vendor={data.get('vendor')} number={data.get('number')} total={data.get('total')} {data.get('currency')}\"\n",
    "    )"
   ]
  },
  {
   "cell_type": "code",
   "execution_count": null,
   "id": "d1f0064c",
   "metadata": {},
   "outputs": [],
   "source": [
    "NODES = [\"WATCH\", \"OCR\", \"CLEAN\", \"EXTRACT\", \"VALIDATE\", \"PERSIST\", \"NOTIFY\"]\n",
    "EDGES = [\n",
    "    (\"WATCH\", \"OCR\"),\n",
    "    (\"OCR\", \"CLEAN\"),\n",
    "    (\"CLEAN\", \"EXTRACT\"),\n",
    "    (\"EXTRACT\", \"VALIDATE\"),\n",
    "    (\"VALIDATE\", \"PERSIST\"),\n",
    "    (\"PERSIST\", \"NOTIFY\"),\n",
    "]"
   ]
  },
  {
   "cell_type": "code",
   "execution_count": 23,
   "id": "8c07a38f",
   "metadata": {},
   "outputs": [],
   "source": [
    "def run_pipeline_for_file(file_path: str) -> None:\n",
    "    file_name = os.path.basename(file_path)\n",
    "\n",
    "    # OCR → CLEAN → EXTRACT\n",
    "    ocr_out     = NODE_OCR(file_path)\n",
    "    clean_out   = NODE_CLEAN(pick_text(ocr_out.get(\"ocr_text\")))\n",
    "    extract_out = NODE_EXTRACT(clean_out.get(\"clean_text\"))\n",
    "\n",
    "    # Parse JSON → VALIDATE\n",
    "    raw_json = extract_out[\"raw_json\"]\n",
    "    data     = parse_json_safe(raw_json)\n",
    "    val_out  = NODE_VALIDATE(data)\n",
    "\n",
    "    # Persist + Notify\n",
    "    NODE_PERSIST(file_name, data, raw_json)\n",
    "    NODE_NOTIFY(file_name, data, val_out[\"valid\"], val_out[\"issues\"])\n"
   ]
  },
  {
   "cell_type": "code",
   "execution_count": null,
   "id": "178438b4",
   "metadata": {},
   "outputs": [
    {
     "name": "stdout",
     "output_type": "stream",
     "text": [
      "\n",
      "Watching 'invoices' every 5s. Only NEW .png/.jpg will be processed.\n"
     ]
    },
    {
     "name": "stderr",
     "output_type": "stream",
     "text": [
      "d:\\lanbgraph_invoice_processor\\invoice-env\\Lib\\site-packages\\torch\\utils\\data\\dataloader.py:666: UserWarning: 'pin_memory' argument is set as true but no accelerator is found, then device pinned memory won't be used.\n",
      "  warnings.warn(warn_msg)\n"
     ]
    },
    {
     "name": "stdout",
     "output_type": "stream",
     "text": [
      "Graph compiled successfully\n",
      "\u001b[1m[values]\u001b[0m {'ocr_text': 'Vendor: Bright Future Co_\\nInvoice Number: INV-1001\\nInvoice Date: 2025-09-10\\nBilling Address: 123 Example Street, City\\nBilling Email:\\n@example.com\\nSubtotal: 469.39 EUR\\nTax: 84.49 EUR\\nTotal: 553.88 EUR\\nDue Date: 2025-10-28\\nPO Numberz\\nPO-2001\\nNotes: Payment due within 30 days_\\nbillingc'}\n",
      "\u001b[1m[updates]\u001b[0m {'CLEAN': {'ocr_text': 'Vendor: Bright Future Co_\\nInvoice Number: INV-1001\\nInvoice Date: 2025-09-10\\nBilling Address: 123 Example Street, City\\nBilling Email:\\n@example.com\\nSubtotal: 469.39 EUR\\nTax: 84.49 EUR\\nTotal: 553.88 EUR\\nDue Date: 2025-10-28\\nPO Numberz\\nPO-2001\\nNotes: Payment due within 30 days_\\nbillingc', 'CLEAN_output': 'Vendor: Bright Future Co  \\nInvoice Number: INV-1001  \\nInvoice Date: 2025-09-10  \\nBilling Address: 123 Example Street, City  \\nBilling Email: example.com  \\nSubtotal: 469.39 EUR  \\nTax: 84.49 EUR  \\nTotal: 553.88 EUR  \\nDue Date: 2025-10-28  \\nPO Number: PO-2001  \\nNotes: Payment due within 30 days', 'CLEAN_raw_response': 'Vendor: Bright Future Co  \\nInvoice Number: INV-1001  \\nInvoice Date: 2025-09-10  \\nBilling Address: 123 Example Street, City  \\nBilling Email: example.com  \\nSubtotal: 469.39 EUR  \\nTax: 84.49 EUR  \\nTotal: 553.88 EUR  \\nDue Date: 2025-10-28  \\nPO Number: PO-2001  \\nNotes: Payment due within 30 days'}}\n",
      "\u001b[1m[values]\u001b[0m {'ocr_text': 'Vendor: Bright Future Co_\\nInvoice Number: INV-1001\\nInvoice Date: 2025-09-10\\nBilling Address: 123 Example Street, City\\nBilling Email:\\n@example.com\\nSubtotal: 469.39 EUR\\nTax: 84.49 EUR\\nTotal: 553.88 EUR\\nDue Date: 2025-10-28\\nPO Numberz\\nPO-2001\\nNotes: Payment due within 30 days_\\nbillingc', 'CLEAN_output': 'Vendor: Bright Future Co  \\nInvoice Number: INV-1001  \\nInvoice Date: 2025-09-10  \\nBilling Address: 123 Example Street, City  \\nBilling Email: example.com  \\nSubtotal: 469.39 EUR  \\nTax: 84.49 EUR  \\nTotal: 553.88 EUR  \\nDue Date: 2025-10-28  \\nPO Number: PO-2001  \\nNotes: Payment due within 30 days', 'CLEAN_raw_response': 'Vendor: Bright Future Co  \\nInvoice Number: INV-1001  \\nInvoice Date: 2025-09-10  \\nBilling Address: 123 Example Street, City  \\nBilling Email: example.com  \\nSubtotal: 469.39 EUR  \\nTax: 84.49 EUR  \\nTotal: 553.88 EUR  \\nDue Date: 2025-10-28  \\nPO Number: PO-2001  \\nNotes: Payment due within 30 days'}\n",
      "Workflow completed in 3.57s\n",
      "Graph compiled successfully\n",
      "\u001b[1m[values]\u001b[0m {'clean_text': 'Vendor: Bright Future Co  \\nInvoice Number: INV-1001  \\nInvoice Date: 2025-09-10  \\nBilling Address: 123 Example Street, City  \\nBilling Email: example.com  \\nSubtotal: 469.39 EUR  \\nTax: 84.49 EUR  \\nTotal: 553.88 EUR  \\nDue Date: 2025-10-28  \\nPO Number: PO-2001  \\nNotes: Payment due within 30 days'}\n",
      "\u001b[1m[updates]\u001b[0m {'EXTRACT': {'clean_text': 'Vendor: Bright Future Co  \\nInvoice Number: INV-1001  \\nInvoice Date: 2025-09-10  \\nBilling Address: 123 Example Street, City  \\nBilling Email: example.com  \\nSubtotal: 469.39 EUR  \\nTax: 84.49 EUR  \\nTotal: 553.88 EUR  \\nDue Date: 2025-10-28  \\nPO Number: PO-2001  \\nNotes: Payment due within 30 days', 'EXTRACT_output': '{\\n  \"vendor\": \"Bright Future Co\",\\n  \"number\": \"INV-1001\",\\n  \"date\": \"2025-09-10\",\\n  \"total\": 553.88,\\n  \"currency\": \"EUR\",\\n  \"line_items\": []\\n}', 'EXTRACT_raw_response': '{\\n  \"vendor\": \"Bright Future Co\",\\n  \"number\": \"INV-1001\",\\n  \"date\": \"2025-09-10\",\\n  \"total\": 553.88,\\n  \"currency\": \"EUR\",\\n  \"line_items\": []\\n}'}}\n",
      "\u001b[1m[values]\u001b[0m {'clean_text': 'Vendor: Bright Future Co  \\nInvoice Number: INV-1001  \\nInvoice Date: 2025-09-10  \\nBilling Address: 123 Example Street, City  \\nBilling Email: example.com  \\nSubtotal: 469.39 EUR  \\nTax: 84.49 EUR  \\nTotal: 553.88 EUR  \\nDue Date: 2025-10-28  \\nPO Number: PO-2001  \\nNotes: Payment due within 30 days', 'EXTRACT_output': '{\\n  \"vendor\": \"Bright Future Co\",\\n  \"number\": \"INV-1001\",\\n  \"date\": \"2025-09-10\",\\n  \"total\": 553.88,\\n  \"currency\": \"EUR\",\\n  \"line_items\": []\\n}', 'EXTRACT_raw_response': '{\\n  \"vendor\": \"Bright Future Co\",\\n  \"number\": \"INV-1001\",\\n  \"date\": \"2025-09-10\",\\n  \"total\": 553.88,\\n  \"currency\": \"EUR\",\\n  \"line_items\": []\\n}'}\n",
      "Workflow completed in 1.55s\n",
      "[DB] Inserted row id=1 at d:\\lanbgraph_invoice_processor\\invoice.sqlite\n",
      "[OK] file='invoice_1.png' vendor=Bright Future Co number=INV-1001 total=553.88 EUR\n"
     ]
    },
    {
     "name": "stderr",
     "output_type": "stream",
     "text": [
      "d:\\lanbgraph_invoice_processor\\invoice-env\\Lib\\site-packages\\torch\\utils\\data\\dataloader.py:666: UserWarning: 'pin_memory' argument is set as true but no accelerator is found, then device pinned memory won't be used.\n",
      "  warnings.warn(warn_msg)\n"
     ]
    },
    {
     "name": "stdout",
     "output_type": "stream",
     "text": [
      "\u001b[1m[values]\u001b[0m {'ocr_text': 'Vendor: Tech Solutions Ltd.\\nInvoice Number: INV-1002\\nInvoice Date: 2025-09-12\\nBilling Address: 123 Example Street, City\\nBilling Email:\\n@example.com\\nSubtotal: 518.54 INR\\nTax: 93.34 INR\\nTotal: 611.88 INR\\nDue Date: 2025-10-23\\nPO Numberz\\nPO-2002\\nNotes: Payment due within 30 days_\\nbillingc'}\n",
      "\u001b[1m[updates]\u001b[0m {'CLEAN': {'ocr_text': 'Vendor: Tech Solutions Ltd.\\nInvoice Number: INV-1002\\nInvoice Date: 2025-09-12\\nBilling Address: 123 Example Street, City\\nBilling Email:\\n@example.com\\nSubtotal: 518.54 INR\\nTax: 93.34 INR\\nTotal: 611.88 INR\\nDue Date: 2025-10-23\\nPO Numberz\\nPO-2002\\nNotes: Payment due within 30 days_\\nbillingc', 'CLEAN_output': 'Vendor: Tech Solutions Ltd.  \\nInvoice Number: INV-1002  \\nInvoice Date: 2025-09-12  \\nBilling Address: 123 Example Street, City  \\nBilling Email: @example.com  \\nSubtotal: 518.54 INR  \\nTax: 93.34 INR  \\nTotal: 611.88 INR  \\nDue Date: 2025-10-23  \\nPO Number: PO-2002  \\nNotes: Payment due within 30 days', 'CLEAN_raw_response': 'Vendor: Tech Solutions Ltd.  \\nInvoice Number: INV-1002  \\nInvoice Date: 2025-09-12  \\nBilling Address: 123 Example Street, City  \\nBilling Email: @example.com  \\nSubtotal: 518.54 INR  \\nTax: 93.34 INR  \\nTotal: 611.88 INR  \\nDue Date: 2025-10-23  \\nPO Number: PO-2002  \\nNotes: Payment due within 30 days'}}\n",
      "\u001b[1m[values]\u001b[0m {'ocr_text': 'Vendor: Tech Solutions Ltd.\\nInvoice Number: INV-1002\\nInvoice Date: 2025-09-12\\nBilling Address: 123 Example Street, City\\nBilling Email:\\n@example.com\\nSubtotal: 518.54 INR\\nTax: 93.34 INR\\nTotal: 611.88 INR\\nDue Date: 2025-10-23\\nPO Numberz\\nPO-2002\\nNotes: Payment due within 30 days_\\nbillingc', 'CLEAN_output': 'Vendor: Tech Solutions Ltd.  \\nInvoice Number: INV-1002  \\nInvoice Date: 2025-09-12  \\nBilling Address: 123 Example Street, City  \\nBilling Email: @example.com  \\nSubtotal: 518.54 INR  \\nTax: 93.34 INR  \\nTotal: 611.88 INR  \\nDue Date: 2025-10-23  \\nPO Number: PO-2002  \\nNotes: Payment due within 30 days', 'CLEAN_raw_response': 'Vendor: Tech Solutions Ltd.  \\nInvoice Number: INV-1002  \\nInvoice Date: 2025-09-12  \\nBilling Address: 123 Example Street, City  \\nBilling Email: @example.com  \\nSubtotal: 518.54 INR  \\nTax: 93.34 INR  \\nTotal: 611.88 INR  \\nDue Date: 2025-10-23  \\nPO Number: PO-2002  \\nNotes: Payment due within 30 days'}\n",
      "Workflow completed in 1.83s\n",
      "\u001b[1m[values]\u001b[0m {'clean_text': 'Vendor: Tech Solutions Ltd.  \\nInvoice Number: INV-1002  \\nInvoice Date: 2025-09-12  \\nBilling Address: 123 Example Street, City  \\nBilling Email: @example.com  \\nSubtotal: 518.54 INR  \\nTax: 93.34 INR  \\nTotal: 611.88 INR  \\nDue Date: 2025-10-23  \\nPO Number: PO-2002  \\nNotes: Payment due within 30 days'}\n",
      "\u001b[1m[updates]\u001b[0m {'EXTRACT': {'clean_text': 'Vendor: Tech Solutions Ltd.  \\nInvoice Number: INV-1002  \\nInvoice Date: 2025-09-12  \\nBilling Address: 123 Example Street, City  \\nBilling Email: @example.com  \\nSubtotal: 518.54 INR  \\nTax: 93.34 INR  \\nTotal: 611.88 INR  \\nDue Date: 2025-10-23  \\nPO Number: PO-2002  \\nNotes: Payment due within 30 days', 'EXTRACT_output': '{\\n  \"vendor\": \"Tech Solutions Ltd.\",\\n  \"number\": \"INV-1002\",\\n  \"date\": \"2025-09-12\",\\n  \"total\": 611.88,\\n  \"currency\": \"INR\",\\n  \"line_items\": []\\n}', 'EXTRACT_raw_response': '{\\n  \"vendor\": \"Tech Solutions Ltd.\",\\n  \"number\": \"INV-1002\",\\n  \"date\": \"2025-09-12\",\\n  \"total\": 611.88,\\n  \"currency\": \"INR\",\\n  \"line_items\": []\\n}'}}\n",
      "\u001b[1m[values]\u001b[0m {'clean_text': 'Vendor: Tech Solutions Ltd.  \\nInvoice Number: INV-1002  \\nInvoice Date: 2025-09-12  \\nBilling Address: 123 Example Street, City  \\nBilling Email: @example.com  \\nSubtotal: 518.54 INR  \\nTax: 93.34 INR  \\nTotal: 611.88 INR  \\nDue Date: 2025-10-23  \\nPO Number: PO-2002  \\nNotes: Payment due within 30 days', 'EXTRACT_output': '{\\n  \"vendor\": \"Tech Solutions Ltd.\",\\n  \"number\": \"INV-1002\",\\n  \"date\": \"2025-09-12\",\\n  \"total\": 611.88,\\n  \"currency\": \"INR\",\\n  \"line_items\": []\\n}', 'EXTRACT_raw_response': '{\\n  \"vendor\": \"Tech Solutions Ltd.\",\\n  \"number\": \"INV-1002\",\\n  \"date\": \"2025-09-12\",\\n  \"total\": 611.88,\\n  \"currency\": \"INR\",\\n  \"line_items\": []\\n}'}\n",
      "Workflow completed in 1.90s\n",
      "[DB] Inserted row id=2 at d:\\lanbgraph_invoice_processor\\invoice.sqlite\n",
      "[OK] file='invoice_2.png' vendor=Tech Solutions Ltd. number=INV-1002 total=611.88 INR\n"
     ]
    },
    {
     "name": "stderr",
     "output_type": "stream",
     "text": [
      "d:\\lanbgraph_invoice_processor\\invoice-env\\Lib\\site-packages\\torch\\utils\\data\\dataloader.py:666: UserWarning: 'pin_memory' argument is set as true but no accelerator is found, then device pinned memory won't be used.\n",
      "  warnings.warn(warn_msg)\n"
     ]
    },
    {
     "name": "stdout",
     "output_type": "stream",
     "text": [
      "\u001b[1m[values]\u001b[0m {'ocr_text': 'Vendor: Global Supplies Inc.\\nInvoice Number: INV-1003\\nInvoice Date: 2025-09-25\\nBilling Address: 123 Example Street, City\\nBilling Email:\\n@example.com\\nSubtotal: 864.1 EUR\\nTax: 155.54 EUR\\nTotal: 1019.64 EUR\\nDue Date: 2025-10-03\\nPO Number: PO-2003\\nNotes: Payment due within 30 days_\\nbillingc'}\n",
      "\u001b[1m[updates]\u001b[0m {'CLEAN': {'ocr_text': 'Vendor: Global Supplies Inc.\\nInvoice Number: INV-1003\\nInvoice Date: 2025-09-25\\nBilling Address: 123 Example Street, City\\nBilling Email:\\n@example.com\\nSubtotal: 864.1 EUR\\nTax: 155.54 EUR\\nTotal: 1019.64 EUR\\nDue Date: 2025-10-03\\nPO Number: PO-2003\\nNotes: Payment due within 30 days_\\nbillingc', 'CLEAN_output': 'Vendor: Global Supplies Inc.  \\nInvoice Number: INV-1003  \\nInvoice Date: 2025-09-25  \\nBilling Address: 123 Example Street, City  \\nBilling Email: @example.com  \\nSubtotal: 864.10 EUR  \\nTax: 155.54 EUR  \\nTotal: 1019.64 EUR  \\nDue Date: 2025-10-03  \\nPO Number: PO-2003  \\nNotes: Payment due within 30 days', 'CLEAN_raw_response': 'Vendor: Global Supplies Inc.  \\nInvoice Number: INV-1003  \\nInvoice Date: 2025-09-25  \\nBilling Address: 123 Example Street, City  \\nBilling Email: @example.com  \\nSubtotal: 864.10 EUR  \\nTax: 155.54 EUR  \\nTotal: 1019.64 EUR  \\nDue Date: 2025-10-03  \\nPO Number: PO-2003  \\nNotes: Payment due within 30 days'}}\n",
      "\u001b[1m[values]\u001b[0m {'ocr_text': 'Vendor: Global Supplies Inc.\\nInvoice Number: INV-1003\\nInvoice Date: 2025-09-25\\nBilling Address: 123 Example Street, City\\nBilling Email:\\n@example.com\\nSubtotal: 864.1 EUR\\nTax: 155.54 EUR\\nTotal: 1019.64 EUR\\nDue Date: 2025-10-03\\nPO Number: PO-2003\\nNotes: Payment due within 30 days_\\nbillingc', 'CLEAN_output': 'Vendor: Global Supplies Inc.  \\nInvoice Number: INV-1003  \\nInvoice Date: 2025-09-25  \\nBilling Address: 123 Example Street, City  \\nBilling Email: @example.com  \\nSubtotal: 864.10 EUR  \\nTax: 155.54 EUR  \\nTotal: 1019.64 EUR  \\nDue Date: 2025-10-03  \\nPO Number: PO-2003  \\nNotes: Payment due within 30 days', 'CLEAN_raw_response': 'Vendor: Global Supplies Inc.  \\nInvoice Number: INV-1003  \\nInvoice Date: 2025-09-25  \\nBilling Address: 123 Example Street, City  \\nBilling Email: @example.com  \\nSubtotal: 864.10 EUR  \\nTax: 155.54 EUR  \\nTotal: 1019.64 EUR  \\nDue Date: 2025-10-03  \\nPO Number: PO-2003  \\nNotes: Payment due within 30 days'}\n",
      "Workflow completed in 1.96s\n",
      "\u001b[1m[values]\u001b[0m {'clean_text': 'Vendor: Global Supplies Inc.  \\nInvoice Number: INV-1003  \\nInvoice Date: 2025-09-25  \\nBilling Address: 123 Example Street, City  \\nBilling Email: @example.com  \\nSubtotal: 864.10 EUR  \\nTax: 155.54 EUR  \\nTotal: 1019.64 EUR  \\nDue Date: 2025-10-03  \\nPO Number: PO-2003  \\nNotes: Payment due within 30 days'}\n",
      "\u001b[1m[updates]\u001b[0m {'EXTRACT': {'clean_text': 'Vendor: Global Supplies Inc.  \\nInvoice Number: INV-1003  \\nInvoice Date: 2025-09-25  \\nBilling Address: 123 Example Street, City  \\nBilling Email: @example.com  \\nSubtotal: 864.10 EUR  \\nTax: 155.54 EUR  \\nTotal: 1019.64 EUR  \\nDue Date: 2025-10-03  \\nPO Number: PO-2003  \\nNotes: Payment due within 30 days', 'EXTRACT_output': '{\\n  \"vendor\": \"Global Supplies Inc.\",\\n  \"number\": \"INV-1003\",\\n  \"date\": \"2025-09-25\",\\n  \"total\": 1019.64,\\n  \"currency\": \"EUR\",\\n  \"line_items\": []\\n}', 'EXTRACT_raw_response': '{\\n  \"vendor\": \"Global Supplies Inc.\",\\n  \"number\": \"INV-1003\",\\n  \"date\": \"2025-09-25\",\\n  \"total\": 1019.64,\\n  \"currency\": \"EUR\",\\n  \"line_items\": []\\n}'}}\n",
      "\u001b[1m[values]\u001b[0m {'clean_text': 'Vendor: Global Supplies Inc.  \\nInvoice Number: INV-1003  \\nInvoice Date: 2025-09-25  \\nBilling Address: 123 Example Street, City  \\nBilling Email: @example.com  \\nSubtotal: 864.10 EUR  \\nTax: 155.54 EUR  \\nTotal: 1019.64 EUR  \\nDue Date: 2025-10-03  \\nPO Number: PO-2003  \\nNotes: Payment due within 30 days', 'EXTRACT_output': '{\\n  \"vendor\": \"Global Supplies Inc.\",\\n  \"number\": \"INV-1003\",\\n  \"date\": \"2025-09-25\",\\n  \"total\": 1019.64,\\n  \"currency\": \"EUR\",\\n  \"line_items\": []\\n}', 'EXTRACT_raw_response': '{\\n  \"vendor\": \"Global Supplies Inc.\",\\n  \"number\": \"INV-1003\",\\n  \"date\": \"2025-09-25\",\\n  \"total\": 1019.64,\\n  \"currency\": \"EUR\",\\n  \"line_items\": []\\n}'}\n",
      "Workflow completed in 1.98s\n",
      "[DB] Inserted row id=3 at d:\\lanbgraph_invoice_processor\\invoice.sqlite\n",
      "[OK] file='invoice_3.png' vendor=Global Supplies Inc. number=INV-1003 total=1019.64 EUR\n"
     ]
    },
    {
     "name": "stderr",
     "output_type": "stream",
     "text": [
      "d:\\lanbgraph_invoice_processor\\invoice-env\\Lib\\site-packages\\torch\\utils\\data\\dataloader.py:666: UserWarning: 'pin_memory' argument is set as true but no accelerator is found, then device pinned memory won't be used.\n",
      "  warnings.warn(warn_msg)\n"
     ]
    },
    {
     "name": "stdout",
     "output_type": "stream",
     "text": [
      "\u001b[1m[values]\u001b[0m {'ocr_text': 'Vendor: Bright Future Co_\\nInvoice Number: INV-1005\\nInvoice Date: 2025-09-25\\nBilling Address: 123 Example Street, City\\nBilling Email:\\n@example.com\\nSubtotal: 710.55 EUR\\nTax: 127.9 EUR\\nTotal: 838.4499999999999 EUR\\nDue Date: 2025-10-04\\nPO Numberz\\nPO-2005\\nNotes: Payment due within 30\\nbillingc\\ndays:'}\n",
      "\u001b[1m[updates]\u001b[0m {'CLEAN': {'ocr_text': 'Vendor: Bright Future Co_\\nInvoice Number: INV-1005\\nInvoice Date: 2025-09-25\\nBilling Address: 123 Example Street, City\\nBilling Email:\\n@example.com\\nSubtotal: 710.55 EUR\\nTax: 127.9 EUR\\nTotal: 838.4499999999999 EUR\\nDue Date: 2025-10-04\\nPO Numberz\\nPO-2005\\nNotes: Payment due within 30\\nbillingc\\ndays:', 'CLEAN_output': 'Vendor: Bright Future Co  \\nInvoice Number: INV-1005  \\nInvoice Date: 2025-09-25  \\nBilling Address: 123 Example Street, City  \\nBilling Email: @example.com  \\nSubtotal: 710.55 EUR  \\nTax: 127.90 EUR  \\nTotal: 838.55 EUR  \\nDue Date: 2025-10-04  \\nPO Number: PO-2005  \\nNotes: Payment due within 30 days', 'CLEAN_raw_response': 'Vendor: Bright Future Co  \\nInvoice Number: INV-1005  \\nInvoice Date: 2025-09-25  \\nBilling Address: 123 Example Street, City  \\nBilling Email: @example.com  \\nSubtotal: 710.55 EUR  \\nTax: 127.90 EUR  \\nTotal: 838.55 EUR  \\nDue Date: 2025-10-04  \\nPO Number: PO-2005  \\nNotes: Payment due within 30 days'}}\n",
      "\u001b[1m[values]\u001b[0m {'ocr_text': 'Vendor: Bright Future Co_\\nInvoice Number: INV-1005\\nInvoice Date: 2025-09-25\\nBilling Address: 123 Example Street, City\\nBilling Email:\\n@example.com\\nSubtotal: 710.55 EUR\\nTax: 127.9 EUR\\nTotal: 838.4499999999999 EUR\\nDue Date: 2025-10-04\\nPO Numberz\\nPO-2005\\nNotes: Payment due within 30\\nbillingc\\ndays:', 'CLEAN_output': 'Vendor: Bright Future Co  \\nInvoice Number: INV-1005  \\nInvoice Date: 2025-09-25  \\nBilling Address: 123 Example Street, City  \\nBilling Email: @example.com  \\nSubtotal: 710.55 EUR  \\nTax: 127.90 EUR  \\nTotal: 838.55 EUR  \\nDue Date: 2025-10-04  \\nPO Number: PO-2005  \\nNotes: Payment due within 30 days', 'CLEAN_raw_response': 'Vendor: Bright Future Co  \\nInvoice Number: INV-1005  \\nInvoice Date: 2025-09-25  \\nBilling Address: 123 Example Street, City  \\nBilling Email: @example.com  \\nSubtotal: 710.55 EUR  \\nTax: 127.90 EUR  \\nTotal: 838.55 EUR  \\nDue Date: 2025-10-04  \\nPO Number: PO-2005  \\nNotes: Payment due within 30 days'}\n",
      "Workflow completed in 2.17s\n",
      "\u001b[1m[values]\u001b[0m {'clean_text': 'Vendor: Bright Future Co  \\nInvoice Number: INV-1005  \\nInvoice Date: 2025-09-25  \\nBilling Address: 123 Example Street, City  \\nBilling Email: @example.com  \\nSubtotal: 710.55 EUR  \\nTax: 127.90 EUR  \\nTotal: 838.55 EUR  \\nDue Date: 2025-10-04  \\nPO Number: PO-2005  \\nNotes: Payment due within 30 days'}\n",
      "\u001b[1m[updates]\u001b[0m {'EXTRACT': {'clean_text': 'Vendor: Bright Future Co  \\nInvoice Number: INV-1005  \\nInvoice Date: 2025-09-25  \\nBilling Address: 123 Example Street, City  \\nBilling Email: @example.com  \\nSubtotal: 710.55 EUR  \\nTax: 127.90 EUR  \\nTotal: 838.55 EUR  \\nDue Date: 2025-10-04  \\nPO Number: PO-2005  \\nNotes: Payment due within 30 days', 'EXTRACT_output': '{\\n  \"vendor\": \"Bright Future Co\",\\n  \"number\": \"INV-1005\",\\n  \"date\": \"2025-09-25\",\\n  \"total\": 838.55,\\n  \"currency\": \"EUR\",\\n  \"line_items\": []\\n}', 'EXTRACT_raw_response': '{\\n  \"vendor\": \"Bright Future Co\",\\n  \"number\": \"INV-1005\",\\n  \"date\": \"2025-09-25\",\\n  \"total\": 838.55,\\n  \"currency\": \"EUR\",\\n  \"line_items\": []\\n}'}}\n",
      "\u001b[1m[values]\u001b[0m {'clean_text': 'Vendor: Bright Future Co  \\nInvoice Number: INV-1005  \\nInvoice Date: 2025-09-25  \\nBilling Address: 123 Example Street, City  \\nBilling Email: @example.com  \\nSubtotal: 710.55 EUR  \\nTax: 127.90 EUR  \\nTotal: 838.55 EUR  \\nDue Date: 2025-10-04  \\nPO Number: PO-2005  \\nNotes: Payment due within 30 days', 'EXTRACT_output': '{\\n  \"vendor\": \"Bright Future Co\",\\n  \"number\": \"INV-1005\",\\n  \"date\": \"2025-09-25\",\\n  \"total\": 838.55,\\n  \"currency\": \"EUR\",\\n  \"line_items\": []\\n}', 'EXTRACT_raw_response': '{\\n  \"vendor\": \"Bright Future Co\",\\n  \"number\": \"INV-1005\",\\n  \"date\": \"2025-09-25\",\\n  \"total\": 838.55,\\n  \"currency\": \"EUR\",\\n  \"line_items\": []\\n}'}\n",
      "Workflow completed in 1.53s\n",
      "[DB] Inserted row id=4 at d:\\lanbgraph_invoice_processor\\invoice.sqlite\n",
      "[OK] file='invoice_5.png' vendor=Bright Future Co number=INV-1005 total=838.55 EUR\n"
     ]
    },
    {
     "name": "stderr",
     "output_type": "stream",
     "text": [
      "d:\\lanbgraph_invoice_processor\\invoice-env\\Lib\\site-packages\\torch\\utils\\data\\dataloader.py:666: UserWarning: 'pin_memory' argument is set as true but no accelerator is found, then device pinned memory won't be used.\n",
      "  warnings.warn(warn_msg)\n"
     ]
    },
    {
     "name": "stdout",
     "output_type": "stream",
     "text": [
      "\u001b[1m[values]\u001b[0m {'ocr_text': 'Vendor: Bright Future Co_\\nInvoice Number: INV-1006\\nInvoice Date: 2025-09-09\\nBilling Address: 123 Example Street, City\\nBilling Email: billing@example.com\\nSubtotal: 669.39 INR\\n120.49 INR\\nTotal: 789.88 INR\\nDue Date: 2025-10-20\\nPO Number: PO-2006\\nNotes: Payment due within 30 days_\\nTax:'}\n",
      "\u001b[1m[updates]\u001b[0m {'CLEAN': {'ocr_text': 'Vendor: Bright Future Co_\\nInvoice Number: INV-1006\\nInvoice Date: 2025-09-09\\nBilling Address: 123 Example Street, City\\nBilling Email: billing@example.com\\nSubtotal: 669.39 INR\\n120.49 INR\\nTotal: 789.88 INR\\nDue Date: 2025-10-20\\nPO Number: PO-2006\\nNotes: Payment due within 30 days_\\nTax:', 'CLEAN_output': 'Vendor: Bright Future Co  \\nInvoice Number: INV-1006  \\nInvoice Date: 2025-09-09  \\nBilling Address: 123 Example Street, City  \\nBilling Email: billing@example.com  \\nSubtotal: 669.39 INR  \\nTax: 120.49 INR  \\nTotal: 789.88 INR  \\nDue Date: 2025-10-20  \\nPO Number: PO-2006  \\nNotes: Payment due within 30 days', 'CLEAN_raw_response': 'Vendor: Bright Future Co  \\nInvoice Number: INV-1006  \\nInvoice Date: 2025-09-09  \\nBilling Address: 123 Example Street, City  \\nBilling Email: billing@example.com  \\nSubtotal: 669.39 INR  \\nTax: 120.49 INR  \\nTotal: 789.88 INR  \\nDue Date: 2025-10-20  \\nPO Number: PO-2006  \\nNotes: Payment due within 30 days'}}\n",
      "\u001b[1m[values]\u001b[0m {'ocr_text': 'Vendor: Bright Future Co_\\nInvoice Number: INV-1006\\nInvoice Date: 2025-09-09\\nBilling Address: 123 Example Street, City\\nBilling Email: billing@example.com\\nSubtotal: 669.39 INR\\n120.49 INR\\nTotal: 789.88 INR\\nDue Date: 2025-10-20\\nPO Number: PO-2006\\nNotes: Payment due within 30 days_\\nTax:', 'CLEAN_output': 'Vendor: Bright Future Co  \\nInvoice Number: INV-1006  \\nInvoice Date: 2025-09-09  \\nBilling Address: 123 Example Street, City  \\nBilling Email: billing@example.com  \\nSubtotal: 669.39 INR  \\nTax: 120.49 INR  \\nTotal: 789.88 INR  \\nDue Date: 2025-10-20  \\nPO Number: PO-2006  \\nNotes: Payment due within 30 days', 'CLEAN_raw_response': 'Vendor: Bright Future Co  \\nInvoice Number: INV-1006  \\nInvoice Date: 2025-09-09  \\nBilling Address: 123 Example Street, City  \\nBilling Email: billing@example.com  \\nSubtotal: 669.39 INR  \\nTax: 120.49 INR  \\nTotal: 789.88 INR  \\nDue Date: 2025-10-20  \\nPO Number: PO-2006  \\nNotes: Payment due within 30 days'}\n",
      "Workflow completed in 2.19s\n",
      "\u001b[1m[values]\u001b[0m {'clean_text': 'Vendor: Bright Future Co  \\nInvoice Number: INV-1006  \\nInvoice Date: 2025-09-09  \\nBilling Address: 123 Example Street, City  \\nBilling Email: billing@example.com  \\nSubtotal: 669.39 INR  \\nTax: 120.49 INR  \\nTotal: 789.88 INR  \\nDue Date: 2025-10-20  \\nPO Number: PO-2006  \\nNotes: Payment due within 30 days'}\n",
      "\u001b[1m[updates]\u001b[0m {'EXTRACT': {'clean_text': 'Vendor: Bright Future Co  \\nInvoice Number: INV-1006  \\nInvoice Date: 2025-09-09  \\nBilling Address: 123 Example Street, City  \\nBilling Email: billing@example.com  \\nSubtotal: 669.39 INR  \\nTax: 120.49 INR  \\nTotal: 789.88 INR  \\nDue Date: 2025-10-20  \\nPO Number: PO-2006  \\nNotes: Payment due within 30 days', 'EXTRACT_output': '{\\n  \"vendor\": \"Bright Future Co\",\\n  \"number\": \"INV-1006\",\\n  \"date\": \"2025-09-09\",\\n  \"total\": 789.88,\\n  \"currency\": \"INR\",\\n  \"line_items\": []\\n}', 'EXTRACT_raw_response': '{\\n  \"vendor\": \"Bright Future Co\",\\n  \"number\": \"INV-1006\",\\n  \"date\": \"2025-09-09\",\\n  \"total\": 789.88,\\n  \"currency\": \"INR\",\\n  \"line_items\": []\\n}'}}\n",
      "\u001b[1m[values]\u001b[0m {'clean_text': 'Vendor: Bright Future Co  \\nInvoice Number: INV-1006  \\nInvoice Date: 2025-09-09  \\nBilling Address: 123 Example Street, City  \\nBilling Email: billing@example.com  \\nSubtotal: 669.39 INR  \\nTax: 120.49 INR  \\nTotal: 789.88 INR  \\nDue Date: 2025-10-20  \\nPO Number: PO-2006  \\nNotes: Payment due within 30 days', 'EXTRACT_output': '{\\n  \"vendor\": \"Bright Future Co\",\\n  \"number\": \"INV-1006\",\\n  \"date\": \"2025-09-09\",\\n  \"total\": 789.88,\\n  \"currency\": \"INR\",\\n  \"line_items\": []\\n}', 'EXTRACT_raw_response': '{\\n  \"vendor\": \"Bright Future Co\",\\n  \"number\": \"INV-1006\",\\n  \"date\": \"2025-09-09\",\\n  \"total\": 789.88,\\n  \"currency\": \"INR\",\\n  \"line_items\": []\\n}'}\n",
      "Workflow completed in 2.01s\n",
      "[DB] Inserted row id=5 at d:\\lanbgraph_invoice_processor\\invoice.sqlite\n",
      "[OK] file='invoice_6.png' vendor=Bright Future Co number=INV-1006 total=789.88 INR\n"
     ]
    },
    {
     "name": "stderr",
     "output_type": "stream",
     "text": [
      "d:\\lanbgraph_invoice_processor\\invoice-env\\Lib\\site-packages\\torch\\utils\\data\\dataloader.py:666: UserWarning: 'pin_memory' argument is set as true but no accelerator is found, then device pinned memory won't be used.\n",
      "  warnings.warn(warn_msg)\n"
     ]
    },
    {
     "name": "stdout",
     "output_type": "stream",
     "text": [
      "\u001b[1m[values]\u001b[0m {'ocr_text': 'Vendor: Alpha Traders\\nInvoice Number: INV-1007\\nInvoice Date: 2025-09-01\\nBilling Address: 123 Example Street, City\\nEmail: billing@example.com\\nSubtotal: 311.48 INR\\n56.07 INR\\nTotal: 367.55 INR\\nDue Date: 2025-10-03\\nPO Number: PO-2007\\nNotes: Payment due within 30 days_\\nBilling\\nTax:'}\n",
      "\u001b[1m[updates]\u001b[0m {'CLEAN': {'ocr_text': 'Vendor: Alpha Traders\\nInvoice Number: INV-1007\\nInvoice Date: 2025-09-01\\nBilling Address: 123 Example Street, City\\nEmail: billing@example.com\\nSubtotal: 311.48 INR\\n56.07 INR\\nTotal: 367.55 INR\\nDue Date: 2025-10-03\\nPO Number: PO-2007\\nNotes: Payment due within 30 days_\\nBilling\\nTax:', 'CLEAN_output': 'Vendor: Alpha Traders  \\nInvoice Number: INV-1007  \\nInvoice Date: 2025-09-01  \\nBilling Address: 123 Example Street, City  \\nEmail: billing@example.com  \\nSubtotal: 311.48 INR  \\nTax: 56.07 INR  \\nTotal: 367.55 INR  \\nDue Date: 2025-10-03  \\nPO Number: PO-2007  \\nNotes: Payment due within 30 days', 'CLEAN_raw_response': 'Vendor: Alpha Traders  \\nInvoice Number: INV-1007  \\nInvoice Date: 2025-09-01  \\nBilling Address: 123 Example Street, City  \\nEmail: billing@example.com  \\nSubtotal: 311.48 INR  \\nTax: 56.07 INR  \\nTotal: 367.55 INR  \\nDue Date: 2025-10-03  \\nPO Number: PO-2007  \\nNotes: Payment due within 30 days'}}\n",
      "\u001b[1m[values]\u001b[0m {'ocr_text': 'Vendor: Alpha Traders\\nInvoice Number: INV-1007\\nInvoice Date: 2025-09-01\\nBilling Address: 123 Example Street, City\\nEmail: billing@example.com\\nSubtotal: 311.48 INR\\n56.07 INR\\nTotal: 367.55 INR\\nDue Date: 2025-10-03\\nPO Number: PO-2007\\nNotes: Payment due within 30 days_\\nBilling\\nTax:', 'CLEAN_output': 'Vendor: Alpha Traders  \\nInvoice Number: INV-1007  \\nInvoice Date: 2025-09-01  \\nBilling Address: 123 Example Street, City  \\nEmail: billing@example.com  \\nSubtotal: 311.48 INR  \\nTax: 56.07 INR  \\nTotal: 367.55 INR  \\nDue Date: 2025-10-03  \\nPO Number: PO-2007  \\nNotes: Payment due within 30 days', 'CLEAN_raw_response': 'Vendor: Alpha Traders  \\nInvoice Number: INV-1007  \\nInvoice Date: 2025-09-01  \\nBilling Address: 123 Example Street, City  \\nEmail: billing@example.com  \\nSubtotal: 311.48 INR  \\nTax: 56.07 INR  \\nTotal: 367.55 INR  \\nDue Date: 2025-10-03  \\nPO Number: PO-2007  \\nNotes: Payment due within 30 days'}\n",
      "Workflow completed in 2.27s\n",
      "\u001b[1m[values]\u001b[0m {'clean_text': 'Vendor: Alpha Traders  \\nInvoice Number: INV-1007  \\nInvoice Date: 2025-09-01  \\nBilling Address: 123 Example Street, City  \\nEmail: billing@example.com  \\nSubtotal: 311.48 INR  \\nTax: 56.07 INR  \\nTotal: 367.55 INR  \\nDue Date: 2025-10-03  \\nPO Number: PO-2007  \\nNotes: Payment due within 30 days'}\n",
      "\u001b[1m[updates]\u001b[0m {'EXTRACT': {'clean_text': 'Vendor: Alpha Traders  \\nInvoice Number: INV-1007  \\nInvoice Date: 2025-09-01  \\nBilling Address: 123 Example Street, City  \\nEmail: billing@example.com  \\nSubtotal: 311.48 INR  \\nTax: 56.07 INR  \\nTotal: 367.55 INR  \\nDue Date: 2025-10-03  \\nPO Number: PO-2007  \\nNotes: Payment due within 30 days', 'EXTRACT_output': '{\\n  \"vendor\": \"Alpha Traders\",\\n  \"number\": \"INV-1007\",\\n  \"date\": \"2025-09-01\",\\n  \"total\": 367.55,\\n  \"currency\": \"INR\",\\n  \"line_items\": []\\n}', 'EXTRACT_raw_response': '{\\n  \"vendor\": \"Alpha Traders\",\\n  \"number\": \"INV-1007\",\\n  \"date\": \"2025-09-01\",\\n  \"total\": 367.55,\\n  \"currency\": \"INR\",\\n  \"line_items\": []\\n}'}}\n",
      "\u001b[1m[values]\u001b[0m {'clean_text': 'Vendor: Alpha Traders  \\nInvoice Number: INV-1007  \\nInvoice Date: 2025-09-01  \\nBilling Address: 123 Example Street, City  \\nEmail: billing@example.com  \\nSubtotal: 311.48 INR  \\nTax: 56.07 INR  \\nTotal: 367.55 INR  \\nDue Date: 2025-10-03  \\nPO Number: PO-2007  \\nNotes: Payment due within 30 days', 'EXTRACT_output': '{\\n  \"vendor\": \"Alpha Traders\",\\n  \"number\": \"INV-1007\",\\n  \"date\": \"2025-09-01\",\\n  \"total\": 367.55,\\n  \"currency\": \"INR\",\\n  \"line_items\": []\\n}', 'EXTRACT_raw_response': '{\\n  \"vendor\": \"Alpha Traders\",\\n  \"number\": \"INV-1007\",\\n  \"date\": \"2025-09-01\",\\n  \"total\": 367.55,\\n  \"currency\": \"INR\",\\n  \"line_items\": []\\n}'}\n",
      "Workflow completed in 1.60s\n",
      "[DB] Inserted row id=6 at d:\\lanbgraph_invoice_processor\\invoice.sqlite\n",
      "[OK] file='invoice_7.png' vendor=Alpha Traders number=INV-1007 total=367.55 INR\n"
     ]
    },
    {
     "name": "stderr",
     "output_type": "stream",
     "text": [
      "d:\\lanbgraph_invoice_processor\\invoice-env\\Lib\\site-packages\\torch\\utils\\data\\dataloader.py:666: UserWarning: 'pin_memory' argument is set as true but no accelerator is found, then device pinned memory won't be used.\n",
      "  warnings.warn(warn_msg)\n"
     ]
    },
    {
     "name": "stdout",
     "output_type": "stream",
     "text": [
      "\u001b[1m[values]\u001b[0m {'ocr_text': 'Vendor: Global Supplies Inc.\\nInvoice Number: INV-1008\\nInvoice Date: 2025-09-08\\nBilling Address: 123 Example Street, City\\nBilling Email: billing@example.com\\nSubtotal: 129.72 USD\\n23.35 USD\\nTotal: 153.07 USD\\nDue Date: 2025-10-12\\nPO Number: PO-2008\\nNotes: Payment due within 30 days_\\nTax:'}\n",
      "\u001b[1m[updates]\u001b[0m {'CLEAN': {'ocr_text': 'Vendor: Global Supplies Inc.\\nInvoice Number: INV-1008\\nInvoice Date: 2025-09-08\\nBilling Address: 123 Example Street, City\\nBilling Email: billing@example.com\\nSubtotal: 129.72 USD\\n23.35 USD\\nTotal: 153.07 USD\\nDue Date: 2025-10-12\\nPO Number: PO-2008\\nNotes: Payment due within 30 days_\\nTax:', 'CLEAN_output': 'Vendor: Global Supplies Inc.  \\nInvoice Number: INV-1008  \\nInvoice Date: 2025-09-08  \\nBilling Address: 123 Example Street, City  \\nBilling Email: billing@example.com  \\nSubtotal: 129.72 USD  \\nTax: 23.35 USD  \\nTotal: 153.07 USD  \\nDue Date: 2025-10-12  \\nPO Number: PO-2008  \\nNotes: Payment due within 30 days', 'CLEAN_raw_response': 'Vendor: Global Supplies Inc.  \\nInvoice Number: INV-1008  \\nInvoice Date: 2025-09-08  \\nBilling Address: 123 Example Street, City  \\nBilling Email: billing@example.com  \\nSubtotal: 129.72 USD  \\nTax: 23.35 USD  \\nTotal: 153.07 USD  \\nDue Date: 2025-10-12  \\nPO Number: PO-2008  \\nNotes: Payment due within 30 days'}}\n",
      "\u001b[1m[values]\u001b[0m {'ocr_text': 'Vendor: Global Supplies Inc.\\nInvoice Number: INV-1008\\nInvoice Date: 2025-09-08\\nBilling Address: 123 Example Street, City\\nBilling Email: billing@example.com\\nSubtotal: 129.72 USD\\n23.35 USD\\nTotal: 153.07 USD\\nDue Date: 2025-10-12\\nPO Number: PO-2008\\nNotes: Payment due within 30 days_\\nTax:', 'CLEAN_output': 'Vendor: Global Supplies Inc.  \\nInvoice Number: INV-1008  \\nInvoice Date: 2025-09-08  \\nBilling Address: 123 Example Street, City  \\nBilling Email: billing@example.com  \\nSubtotal: 129.72 USD  \\nTax: 23.35 USD  \\nTotal: 153.07 USD  \\nDue Date: 2025-10-12  \\nPO Number: PO-2008  \\nNotes: Payment due within 30 days', 'CLEAN_raw_response': 'Vendor: Global Supplies Inc.  \\nInvoice Number: INV-1008  \\nInvoice Date: 2025-09-08  \\nBilling Address: 123 Example Street, City  \\nBilling Email: billing@example.com  \\nSubtotal: 129.72 USD  \\nTax: 23.35 USD  \\nTotal: 153.07 USD  \\nDue Date: 2025-10-12  \\nPO Number: PO-2008  \\nNotes: Payment due within 30 days'}\n",
      "Workflow completed in 2.61s\n",
      "\u001b[1m[values]\u001b[0m {'clean_text': 'Vendor: Global Supplies Inc.  \\nInvoice Number: INV-1008  \\nInvoice Date: 2025-09-08  \\nBilling Address: 123 Example Street, City  \\nBilling Email: billing@example.com  \\nSubtotal: 129.72 USD  \\nTax: 23.35 USD  \\nTotal: 153.07 USD  \\nDue Date: 2025-10-12  \\nPO Number: PO-2008  \\nNotes: Payment due within 30 days'}\n",
      "\u001b[1m[updates]\u001b[0m {'EXTRACT': {'clean_text': 'Vendor: Global Supplies Inc.  \\nInvoice Number: INV-1008  \\nInvoice Date: 2025-09-08  \\nBilling Address: 123 Example Street, City  \\nBilling Email: billing@example.com  \\nSubtotal: 129.72 USD  \\nTax: 23.35 USD  \\nTotal: 153.07 USD  \\nDue Date: 2025-10-12  \\nPO Number: PO-2008  \\nNotes: Payment due within 30 days', 'EXTRACT_output': '{\\n  \"vendor\": \"Global Supplies Inc.\",\\n  \"number\": \"INV-1008\",\\n  \"date\": \"2025-09-08\",\\n  \"total\": 153.07,\\n  \"currency\": \"USD\",\\n  \"line_items\": []\\n}', 'EXTRACT_raw_response': '{\\n  \"vendor\": \"Global Supplies Inc.\",\\n  \"number\": \"INV-1008\",\\n  \"date\": \"2025-09-08\",\\n  \"total\": 153.07,\\n  \"currency\": \"USD\",\\n  \"line_items\": []\\n}'}}\n",
      "\u001b[1m[values]\u001b[0m {'clean_text': 'Vendor: Global Supplies Inc.  \\nInvoice Number: INV-1008  \\nInvoice Date: 2025-09-08  \\nBilling Address: 123 Example Street, City  \\nBilling Email: billing@example.com  \\nSubtotal: 129.72 USD  \\nTax: 23.35 USD  \\nTotal: 153.07 USD  \\nDue Date: 2025-10-12  \\nPO Number: PO-2008  \\nNotes: Payment due within 30 days', 'EXTRACT_output': '{\\n  \"vendor\": \"Global Supplies Inc.\",\\n  \"number\": \"INV-1008\",\\n  \"date\": \"2025-09-08\",\\n  \"total\": 153.07,\\n  \"currency\": \"USD\",\\n  \"line_items\": []\\n}', 'EXTRACT_raw_response': '{\\n  \"vendor\": \"Global Supplies Inc.\",\\n  \"number\": \"INV-1008\",\\n  \"date\": \"2025-09-08\",\\n  \"total\": 153.07,\\n  \"currency\": \"USD\",\\n  \"line_items\": []\\n}'}\n",
      "Workflow completed in 1.98s\n",
      "[DB] Inserted row id=7 at d:\\lanbgraph_invoice_processor\\invoice.sqlite\n",
      "[OK] file='invoice_8.png' vendor=Global Supplies Inc. number=INV-1008 total=153.07 USD\n"
     ]
    },
    {
     "name": "stderr",
     "output_type": "stream",
     "text": [
      "d:\\lanbgraph_invoice_processor\\invoice-env\\Lib\\site-packages\\torch\\utils\\data\\dataloader.py:666: UserWarning: 'pin_memory' argument is set as true but no accelerator is found, then device pinned memory won't be used.\n",
      "  warnings.warn(warn_msg)\n"
     ]
    },
    {
     "name": "stdout",
     "output_type": "stream",
     "text": [
      "\u001b[1m[values]\u001b[0m {'ocr_text': 'Vendor: Euron Tech\\nInvoice Number: INV-1009\\nInvoice Date: 2025-09-08\\nBilling Address: 123 Example Street, City\\nEmail: billing@example.com\\nSubtotal: 827.08 INR\\n148.87 INR\\nTotal: 975.95 INR\\nDue Date: 2025-10-16\\nPO Number: PO-2009\\nNotes: Payment due within 30 days_\\nBilling\\nTax:'}\n",
      "\u001b[1m[updates]\u001b[0m {'CLEAN': {'ocr_text': 'Vendor: Euron Tech\\nInvoice Number: INV-1009\\nInvoice Date: 2025-09-08\\nBilling Address: 123 Example Street, City\\nEmail: billing@example.com\\nSubtotal: 827.08 INR\\n148.87 INR\\nTotal: 975.95 INR\\nDue Date: 2025-10-16\\nPO Number: PO-2009\\nNotes: Payment due within 30 days_\\nBilling\\nTax:', 'CLEAN_output': 'Vendor: Euron Tech  \\nInvoice Number: INV-1009  \\nInvoice Date: 2025-09-08  \\nBilling Address: 123 Example Street, City  \\nEmail: billing@example.com  \\n\\nSubtotal: 827.08 INR  \\nTax: 148.87 INR  \\nTotal: 975.95 INR  \\n\\nDue Date: 2025-10-16  \\nPO Number: PO-2009  \\nNotes: Payment due within 30 days', 'CLEAN_raw_response': 'Vendor: Euron Tech  \\nInvoice Number: INV-1009  \\nInvoice Date: 2025-09-08  \\nBilling Address: 123 Example Street, City  \\nEmail: billing@example.com  \\n\\nSubtotal: 827.08 INR  \\nTax: 148.87 INR  \\nTotal: 975.95 INR  \\n\\nDue Date: 2025-10-16  \\nPO Number: PO-2009  \\nNotes: Payment due within 30 days'}}\n",
      "\u001b[1m[values]\u001b[0m {'ocr_text': 'Vendor: Euron Tech\\nInvoice Number: INV-1009\\nInvoice Date: 2025-09-08\\nBilling Address: 123 Example Street, City\\nEmail: billing@example.com\\nSubtotal: 827.08 INR\\n148.87 INR\\nTotal: 975.95 INR\\nDue Date: 2025-10-16\\nPO Number: PO-2009\\nNotes: Payment due within 30 days_\\nBilling\\nTax:', 'CLEAN_output': 'Vendor: Euron Tech  \\nInvoice Number: INV-1009  \\nInvoice Date: 2025-09-08  \\nBilling Address: 123 Example Street, City  \\nEmail: billing@example.com  \\n\\nSubtotal: 827.08 INR  \\nTax: 148.87 INR  \\nTotal: 975.95 INR  \\n\\nDue Date: 2025-10-16  \\nPO Number: PO-2009  \\nNotes: Payment due within 30 days', 'CLEAN_raw_response': 'Vendor: Euron Tech  \\nInvoice Number: INV-1009  \\nInvoice Date: 2025-09-08  \\nBilling Address: 123 Example Street, City  \\nEmail: billing@example.com  \\n\\nSubtotal: 827.08 INR  \\nTax: 148.87 INR  \\nTotal: 975.95 INR  \\n\\nDue Date: 2025-10-16  \\nPO Number: PO-2009  \\nNotes: Payment due within 30 days'}\n",
      "Workflow completed in 1.93s\n",
      "\u001b[1m[values]\u001b[0m {'clean_text': 'Vendor: Euron Tech  \\nInvoice Number: INV-1009  \\nInvoice Date: 2025-09-08  \\nBilling Address: 123 Example Street, City  \\nEmail: billing@example.com  \\n\\nSubtotal: 827.08 INR  \\nTax: 148.87 INR  \\nTotal: 975.95 INR  \\n\\nDue Date: 2025-10-16  \\nPO Number: PO-2009  \\nNotes: Payment due within 30 days'}\n",
      "\u001b[1m[updates]\u001b[0m {'EXTRACT': {'clean_text': 'Vendor: Euron Tech  \\nInvoice Number: INV-1009  \\nInvoice Date: 2025-09-08  \\nBilling Address: 123 Example Street, City  \\nEmail: billing@example.com  \\n\\nSubtotal: 827.08 INR  \\nTax: 148.87 INR  \\nTotal: 975.95 INR  \\n\\nDue Date: 2025-10-16  \\nPO Number: PO-2009  \\nNotes: Payment due within 30 days', 'EXTRACT_output': '{\\n  \"vendor\": \"Euron Tech\",\\n  \"number\": \"INV-1009\",\\n  \"date\": \"2025-09-08\",\\n  \"total\": 975.95,\\n  \"currency\": \"INR\",\\n  \"line_items\": []\\n}', 'EXTRACT_raw_response': '{\\n  \"vendor\": \"Euron Tech\",\\n  \"number\": \"INV-1009\",\\n  \"date\": \"2025-09-08\",\\n  \"total\": 975.95,\\n  \"currency\": \"INR\",\\n  \"line_items\": []\\n}'}}\n",
      "\u001b[1m[values]\u001b[0m {'clean_text': 'Vendor: Euron Tech  \\nInvoice Number: INV-1009  \\nInvoice Date: 2025-09-08  \\nBilling Address: 123 Example Street, City  \\nEmail: billing@example.com  \\n\\nSubtotal: 827.08 INR  \\nTax: 148.87 INR  \\nTotal: 975.95 INR  \\n\\nDue Date: 2025-10-16  \\nPO Number: PO-2009  \\nNotes: Payment due within 30 days', 'EXTRACT_output': '{\\n  \"vendor\": \"Euron Tech\",\\n  \"number\": \"INV-1009\",\\n  \"date\": \"2025-09-08\",\\n  \"total\": 975.95,\\n  \"currency\": \"INR\",\\n  \"line_items\": []\\n}', 'EXTRACT_raw_response': '{\\n  \"vendor\": \"Euron Tech\",\\n  \"number\": \"INV-1009\",\\n  \"date\": \"2025-09-08\",\\n  \"total\": 975.95,\\n  \"currency\": \"INR\",\\n  \"line_items\": []\\n}'}\n",
      "Workflow completed in 1.76s\n",
      "[DB] Inserted row id=8 at d:\\lanbgraph_invoice_processor\\invoice.sqlite\n",
      "[OK] file='invoice_9.png' vendor=Euron Tech number=INV-1009 total=975.95 INR\n"
     ]
    }
   ],
   "source": [
    "print(f\"\\nWatching '{INPUT_DIR}' every {POLL_SEC}s. Only NEW .png/.jpg will be processed.\")\n",
    "try:\n",
    "    while True:\n",
    "        for fname in sorted(os.listdir(INPUT_DIR)):\n",
    "            if not fname.lower().endswith((\".png\", \".jpg\", \".jpeg\")):\n",
    "                continue\n",
    "            if fname in seen:\n",
    "                continue  # already processed (persists across restarts)\n",
    "            fpath = os.path.join(INPUT_DIR, fname)\n",
    "            try:\n",
    "                run_pipeline_for_file(fpath)          # trigger full pipeline\n",
    "                seen.add(fname); save_seen(seen)      # mark as processed\n",
    "            except Exception as e:\n",
    "                print(f\"[ERROR] {fname}: {e}\")\n",
    "        time.sleep(POLL_SEC)\n",
    "except KeyboardInterrupt:\n",
    "    print(\"Stopped watching.\")"
   ]
  },
  {
   "cell_type": "code",
   "execution_count": null,
   "id": "3857009c",
   "metadata": {},
   "outputs": [],
   "source": []
  }
 ],
 "metadata": {
  "kernelspec": {
   "display_name": "invoice-env",
   "language": "python",
   "name": "python3"
  },
  "language_info": {
   "codemirror_mode": {
    "name": "ipython",
    "version": 3
   },
   "file_extension": ".py",
   "mimetype": "text/x-python",
   "name": "python",
   "nbconvert_exporter": "python",
   "pygments_lexer": "ipython3",
   "version": "3.12.3"
  }
 },
 "nbformat": 4,
 "nbformat_minor": 5
}
