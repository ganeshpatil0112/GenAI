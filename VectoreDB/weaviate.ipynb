{
 "cells": [
  {
   "cell_type": "code",
   "execution_count": 1,
   "id": "376d8e2f",
   "metadata": {},
   "outputs": [
    {
     "name": "stdout",
     "output_type": "stream",
     "text": [
      "Collecting weaviate-client==3.26.1\n",
      "  Using cached weaviate_client-3.26.1-py3-none-any.whl.metadata (3.4 kB)\n",
      "Requirement already satisfied: requests<3.0.0,>=2.30.0 in c:\\users\\scl\\anaconda3\\envs\\cnn_class\\lib\\site-packages (from weaviate-client==3.26.1) (2.32.3)\n",
      "Collecting validators<1.0.0,>=0.21.2 (from weaviate-client==3.26.1)\n",
      "  Using cached validators-0.35.0-py3-none-any.whl.metadata (3.9 kB)\n",
      "Collecting authlib<2.0.0,>=1.2.1 (from weaviate-client==3.26.1)\n",
      "  Downloading authlib-1.6.3-py2.py3-none-any.whl.metadata (1.6 kB)\n",
      "Collecting cryptography (from authlib<2.0.0,>=1.2.1->weaviate-client==3.26.1)\n",
      "  Downloading cryptography-45.0.6-cp37-abi3-win_amd64.whl.metadata (5.7 kB)\n",
      "Requirement already satisfied: charset-normalizer<4,>=2 in c:\\users\\scl\\anaconda3\\envs\\cnn_class\\lib\\site-packages (from requests<3.0.0,>=2.30.0->weaviate-client==3.26.1) (3.4.1)\n",
      "Requirement already satisfied: idna<4,>=2.5 in c:\\users\\scl\\anaconda3\\envs\\cnn_class\\lib\\site-packages (from requests<3.0.0,>=2.30.0->weaviate-client==3.26.1) (3.10)\n",
      "Requirement already satisfied: urllib3<3,>=1.21.1 in c:\\users\\scl\\anaconda3\\envs\\cnn_class\\lib\\site-packages (from requests<3.0.0,>=2.30.0->weaviate-client==3.26.1) (2.4.0)\n",
      "Requirement already satisfied: certifi>=2017.4.17 in c:\\users\\scl\\anaconda3\\envs\\cnn_class\\lib\\site-packages (from requests<3.0.0,>=2.30.0->weaviate-client==3.26.1) (2025.4.26)\n",
      "Collecting cffi>=1.14 (from cryptography->authlib<2.0.0,>=1.2.1->weaviate-client==3.26.1)\n",
      "  Using cached cffi-1.17.1-cp310-cp310-win_amd64.whl.metadata (1.6 kB)\n",
      "Collecting pycparser (from cffi>=1.14->cryptography->authlib<2.0.0,>=1.2.1->weaviate-client==3.26.1)\n",
      "  Using cached pycparser-2.22-py3-none-any.whl.metadata (943 bytes)\n",
      "Using cached weaviate_client-3.26.1-py3-none-any.whl (120 kB)\n",
      "Downloading authlib-1.6.3-py2.py3-none-any.whl (240 kB)\n",
      "Using cached validators-0.35.0-py3-none-any.whl (44 kB)\n",
      "Downloading cryptography-45.0.6-cp37-abi3-win_amd64.whl (3.4 MB)\n",
      "   ---------------------------------------- 0.0/3.4 MB ? eta -:--:--\n",
      "   ---------------------------------------- 3.4/3.4 MB 50.5 MB/s eta 0:00:00\n",
      "Using cached cffi-1.17.1-cp310-cp310-win_amd64.whl (181 kB)\n",
      "Using cached pycparser-2.22-py3-none-any.whl (117 kB)\n",
      "Installing collected packages: validators, pycparser, cffi, cryptography, authlib, weaviate-client\n",
      "Successfully installed authlib-1.6.3 cffi-1.17.1 cryptography-45.0.6 pycparser-2.22 validators-0.35.0 weaviate-client-3.26.1\n",
      "Note: you may need to restart the kernel to use updated packages.\n"
     ]
    }
   ],
   "source": [
    "pip install weaviate-client==3.26.1"
   ]
  },
  {
   "cell_type": "code",
   "execution_count": 2,
   "id": "648f5834",
   "metadata": {},
   "outputs": [],
   "source": [
    "import weaviate"
   ]
  },
  {
   "cell_type": "code",
   "execution_count": null,
   "id": "d46d5d55",
   "metadata": {},
   "outputs": [],
   "source": [
    "client = weaviate.Client(\n",
    "    url=\"https://hbogbovyrtol3imqj7ohg.c0.asia-southeast1.gcp.weaviate.cloud\",\n",
    "    auth_client_secret=weaviate.AuthApiKey(\n",
    "        \"UVB2cmNBbnY5WklGUzArc183bzRQSWw0eWFnNGZpaXRRRldPVGxDS05KM05IRTRGZ2p6SGE1TW5VWWpvPV92MjAw\"\n",
    "    )\n",
    ")\n",
    "\n",
    "print(\"Is ready?\", client.is_ready())"
   ]
  }
 ],
 "metadata": {
  "kernelspec": {
   "display_name": "cnn_class",
   "language": "python",
   "name": "python3"
  },
  "language_info": {
   "codemirror_mode": {
    "name": "ipython",
    "version": 3
   },
   "file_extension": ".py",
   "mimetype": "text/x-python",
   "name": "python",
   "nbconvert_exporter": "python",
   "pygments_lexer": "ipython3",
   "version": "3.10.17"
  }
 },
 "nbformat": 4,
 "nbformat_minor": 5
}
